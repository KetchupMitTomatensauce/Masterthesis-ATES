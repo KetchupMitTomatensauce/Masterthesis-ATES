{
 "cells": [],
 "metadata": {
  "kernelspec": {
   "display_name": "esm-2023",
   "language": "python",
   "name": "python3"
  },
  "language_info": {
   "name": "python",
   "version": "3.11.3"
  }
 },
 "nbformat": 4,
 "nbformat_minor": 5
}
