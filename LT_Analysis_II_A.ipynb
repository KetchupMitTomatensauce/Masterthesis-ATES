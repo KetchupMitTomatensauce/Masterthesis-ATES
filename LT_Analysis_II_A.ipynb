{
 "cells": [
  {
   "cell_type": "code",
   "execution_count": 1,
   "id": "f2001e2b",
   "metadata": {},
   "outputs": [],
   "source": [
    "import numpy as np\n",
    "import pandas as pd\n",
    "import matplotlib.pyplot as plt\n",
    "import userinput\n",
    "from IPython.display import clear_output\n"
   ]
  },
  {
   "cell_type": "code",
   "execution_count": null,
   "id": "8f8bc509",
   "metadata": {},
   "outputs": [],
   "source": [
    "df_temp_time = pd.read_csv('csv_and_xlsx/LT_Analysis_I_temp_time.csv')\n",
    "\n",
    "time_index_H = pd.date_range(start=str(userinput.year_input) +\"-01-01 00:00\", end=str(userinput.year_input) +\"-12-31  23:00\", freq=\"H\")\n",
    "temperature_heat = pd.Series(df_temp_time['temperature_heat'].values, index=time_index_H)\n",
    "heat_demand = pd.Series(df_temp_time['heat_demand'].values, index=time_index_H)\n",
    "COP_hp = pd.Series(df_temp_time['COP_hp'].values, index=time_index_H)\n",
    "electricity_price = pd.Series(df_temp_time['electricity_price'].values, index=time_index_H)"
   ]
  },
  {
   "cell_type": "code",
   "execution_count": null,
   "id": "2ed63e4f",
   "metadata": {},
   "outputs": [],
   "source": [
    "df_Analysis_I = pd.read_csv(\"csv_and_xlsx/LT_ATES_sensitivity_results_I.csv\")\n",
    "if userinput.Depth_drilling_possible:\n",
    "    pass\n",
    "else:\n",
    "    df_Analysis_I = df_Analysis_I[df_Analysis_I['depth_ATES'] == df_Analysis_I['depth_ATES'].min()]\n",
    "\n",
    "\n",
    "first_row = df_Analysis_I.iloc[[0]]\n",
    "max_phi_row = df_Analysis_I.loc[[df_Analysis_I['phi_standing'].idxmax()]]\n",
    "min_phi_row = df_Analysis_I.loc[[df_Analysis_I['phi_standing'].idxmin()]]\n",
    "\n",
    "df_Analysis_II = pd.concat([first_row, max_phi_row, min_phi_row]).drop_duplicates().reset_index(drop=True)"
   ]
  },
  {
   "cell_type": "code",
   "execution_count": null,
   "id": "56ffefe9",
   "metadata": {},
   "outputs": [],
   "source": [
    "import os\n",
    "from ATES_optimization import optimization\n",
    "\n",
    "# Define the ranges for each variable\n",
    "phi_s_range = df_Analysis_II['phi_standing'].values # Assuming phi_standing is the variable of interest\n",
    "phi_c_range = df_Analysis_II['phi_charge_ATES'].values\n",
    "elpr_range = np.array(userinput.elpr_range)\n",
    "drc_range = np.array(userinput.drc_range)\n",
    "CapTT_range = np.array(userinput.CapTT_range) \n",
    "\n",
    "if userinput.Depth_drilling_possible:\n",
    "    os.makedirs(\"LT_optimization_2_results_depth\", exist_ok=True)\n",
    "    # Delete all files in the directory\n",
    "    for f in os.listdir(\"LT_optimization_2_results_depth\"):\n",
    "        file_path = os.path.join(\"LT_optimization_2_results_depth\", f)\n",
    "        if os.path.isfile(file_path):\n",
    "            os.remove(file_path)\n",
    "else:\n",
    "    os.makedirs(\"LT_optimization_2_results\", exist_ok=True)\n",
    "    # Delete all files in the directory\n",
    "    for f in os.listdir(\"LT_optimization_2_results\"):\n",
    "        file_path = os.path.join(\"LT_optimization_2_results\", f)\n",
    "        if os.path.isfile(file_path):\n",
    "            os.remove(file_path)\n",
    "\n",
    "            \n",
    "for phi_s in phi_s_range:\n",
    "    for elpr in elpr_range:\n",
    "        for drc in drc_range:\n",
    "            for CapTT in CapTT_range:\n",
    "                # Run the optimization with the current parameters\n",
    "                df_aux = df_Analysis_II[df_Analysis_II['phi_standing'] == phi_s]\n",
    "                m, obj_sol = optimization(df_aux.depth_ATES.iloc[0], df_aux.ATES_max_power.iloc[0], time_index_H, temperature_heat,df_aux.phi_standing.iloc[0], df_aux.phi_pipes.iloc[0], \n",
    "                                    df_aux.phi_charge_ATES.iloc[0], heat_demand, df_aux.P_pump.iloc[0], COP_hp, elpr * electricity_price, drilling_costs=drc, Capex_TTES=CapTT, interest=userinput.interest\n",
    "                                )\n",
    "                # Collect all results from m.solution and m.dual in a DataFrame\n",
    "                # Combine m.solution and m.dual into a single DataFrame with matching datetime index\n",
    "                m_solution = pd.DataFrame({k: v.values for k, v in m.solution.data_vars.items()}, index=time_index_H)\n",
    "                m_dual = pd.DataFrame({k: v.values for k, v in m.dual.data_vars.items()}, index=time_index_H)\n",
    "                system_info = pd.DataFrame({\n",
    "                    'phi_standing': [phi_s],\n",
    "                    'electricity_price': [elpr],\n",
    "                    'drilling_costs': [drc],\n",
    "                    'Capex_TTES': [CapTT],\n",
    "                }, index = time_index_H)  \n",
    "                \n",
    "                for k, v in obj_sol.items():\n",
    "                    system_info[k] = v\n",
    "\n",
    "                # Concatenate both DataFrames horizontally\n",
    "                df_result = pd.concat([m_solution, m_dual, system_info], axis=1)\n",
    "                df_result.reset_index(inplace=True)\n",
    "                df_result.rename(columns={'index': 'datetime'}, inplace=True)\n",
    "                # Create filename with short variable names and values\n",
    "                if userinput.Depth_drilling_possible:\n",
    "                    filename = f\"LT_optimization_2_results_depth/phi_s_{round(phi_s,6)}_elp_{round(elpr,2)}_drc_{round(drc,2)}_CapTT_{round(CapTT,2)}.csv\"\n",
    "                else:\n",
    "                    filename = f\"LT_optimization_2_results/phi_s_{round(phi_s,6)}_elp_{round(elpr,2)}_drc_{round(drc,2)}_CapTT_{round(CapTT,2)}.csv\"\n",
    "                df_result.to_csv(filename, index=False)\n",
    "\n",
    "clear_output()\n"
   ]
  }
 ],
 "metadata": {
  "kernelspec": {
   "display_name": "esm-2023",
   "language": "python",
   "name": "python3"
  },
  "language_info": {
   "codemirror_mode": {
    "name": "ipython",
    "version": 3
   },
   "file_extension": ".py",
   "mimetype": "text/x-python",
   "name": "python",
   "nbconvert_exporter": "python",
   "pygments_lexer": "ipython3",
   "version": "3.11.3"
  }
 },
 "nbformat": 4,
 "nbformat_minor": 5
}
